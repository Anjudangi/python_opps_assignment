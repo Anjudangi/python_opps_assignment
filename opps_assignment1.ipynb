{
 "cells": [
  {
   "cell_type": "markdown",
   "id": "da64bc40-7084-4568-8dd1-a862a13a0c82",
   "metadata": {},
   "source": [
    "# Q1. Explain Class and Object with respect to Object-Oriented Programming. Give a suitable example."
   ]
  },
  {
   "cell_type": "markdown",
   "id": "a2ef3c0f-f483-4413-845d-bac9957ded66",
   "metadata": {},
   "source": [
    " Ans.1 In Object-Oriented Programming (OOP), Class and Object are fundamental concepts that help in modeling real-world entities as software components.\n",
    "\n",
    "Class:\n",
    "A class is like a blueprint or template that defines the structure and behavior (properties and methods) that objects of the class will have. It doesn’t \n",
    "hold any data itself but defines what attributes (data) and methods (functions) an object created from the class can have.\n",
    "\n",
    "Object:\n",
    "An object is an instance of a class. It represents a specific entity based on the class definition. Each object has its own values for the attributes \n",
    "defined by the class and can perform actions (call methods) as defined by the class."
   ]
  },
  {
   "cell_type": "code",
   "execution_count": 2,
   "id": "190b1074-44f3-473b-943e-fc941ae86b82",
   "metadata": {},
   "outputs": [
    {
     "name": "stdout",
     "output_type": "stream",
     "text": [
      "2020 Toyota Corolla\n"
     ]
    }
   ],
   "source": [
    "# Defining the Car class\n",
    "class Car:\n",
    "    def __init__(self, make, model, year):\n",
    "        self.make = make  # attribute for car manufacturer\n",
    "        self.model = model  # attribute for car model\n",
    "        self.year = year  # attribute for car's manufacturing year\n",
    "\n",
    "    # Method to display the car's details\n",
    "    def display_info(self):\n",
    "        print(f\"{self.year} {self.make} {self.model}\")\n",
    "\n",
    "# Creating an object of the Car class\n",
    "car1 = Car(\"Toyota\", \"Corolla\", 2020)\n",
    "\n",
    "# Accessing the object's methods and attributes\n",
    "car1.display_info()  # Output: 2020 Toyota Corolla"
   ]
  },
  {
   "cell_type": "markdown",
   "id": "70b49f75-d8e0-43e7-baf9-aeeabbc0d846",
   "metadata": {},
   "source": [
    "# Q2. Name the four pillars of OOPs."
   ]
  },
  {
   "cell_type": "markdown",
   "id": "8779b646-a1a7-4a9d-acba-6c477439214a",
   "metadata": {},
   "source": [
    "Ans.2 The four pillars of Object-Oriented Programming (OOP) are:\n",
    "\n",
    "Encapsulation:\n",
    "\n",
    "This is the concept of bundling the data (attributes) and the methods (functions) that operate on the data into a single unit, known as a class. \n",
    "Encapsulation restricts direct access to some of an object's components, which helps to protect the integrity of the data and ensures that it can only\n",
    "be changed in controlled ways. Access to the data is typically provided through public methods (getters and setters).\n",
    "Abstraction:\n",
    "\n",
    "Abstraction involves simplifying complex reality by modeling classes based on the essential properties and behaviors of the objects while hiding \n",
    "unnecessary details. This allows programmers to work at a higher level of complexity and focus on what an object does instead of how it does it.\n",
    "In OOP, abstraction can be achieved through abstract classes and interfaces.\n",
    "Inheritance:\n",
    "\n",
    "Inheritance allows a new class (called a subclass or derived class) to inherit the properties and methods of an existing class (called a superclass or\n",
    "base class). This promotes code reusability and establishes a relationship between classes, where the subclass can extend or modify the functionality\n",
    "of the superclass.\n",
    "Polymorphism:\n",
    "\n",
    "Polymorphism allows objects of different classes to be treated as objects of a common superclass. It provides a way to perform a single action \n",
    "in different forms. There are two types of polymorphism:\n",
    "Compile-time polymorphism (Method Overloading): Achieved by defining multiple methods with the same name but different parameters in the same class.\n",
    "Runtime polymorphism (Method Overriding): Achieved when a subclass provides a specific implementation of a method that is already defined in its \n",
    "superclass.\n",
    "These four pillars form the foundation of OOP, enabling developers to create modular, reusable, and maintainable code.\n"
   ]
  },
  {
   "cell_type": "markdown",
   "id": "a6252ff8-613d-48da-945b-1ca0cb85b4ec",
   "metadata": {},
   "source": [
    "# Q3. Explain why the __init__() function is used. Give a suitable example."
   ]
  },
  {
   "cell_type": "markdown",
   "id": "145d0fa0-66f4-424a-84fe-91d43df1ddd0",
   "metadata": {},
   "source": [
    "Ans.3 The __init__() function in Python is a special method called a constructor. It is automatically invoked when an instance (object) of a class is\n",
    "created. The primary purpose of the __init__() function is to initialize the object's attributes with specific values and to set up any necessary state \n",
    "when the object is created.\n",
    "\n",
    "Key Points about __init__():\n",
    "Initialization: It allows you to set initial values for the object's properties.\n",
    "Self Parameter: The first parameter of the __init__() function is always self, which refers to the instance being created.\n",
    "Optional Parameters: You can define additional parameters in the __init__() function to customize the object's initialization based on the values \n",
    "passed when the object is created.\n"
   ]
  },
  {
   "cell_type": "code",
   "execution_count": 3,
   "id": "b9ff2d6b-dce4-4e84-b62c-5c8e3ba75caf",
   "metadata": {},
   "outputs": [
    {
     "name": "stdout",
     "output_type": "stream",
     "text": [
      "'1984' by George Orwell, published in 1949\n",
      "'To Kill a Mockingbird' by Harper Lee, published in 1960\n"
     ]
    }
   ],
   "source": [
    "# Defining the Book class\n",
    "class Book:\n",
    "    def __init__(self, title, author, year):\n",
    "        self.title = title  # Initializing the title attribute\n",
    "        self.author = author  # Initializing the author attribute\n",
    "        self.year = year  # Initializing the year attribute\n",
    "\n",
    "    # Method to display book details\n",
    "    def display_info(self):\n",
    "        print(f\"'{self.title}' by {self.author}, published in {self.year}\")\n",
    "\n",
    "# Creating instances of the Book class\n",
    "book1 = Book(\"1984\", \"George Orwell\", 1949)\n",
    "book2 = Book(\"To Kill a Mockingbird\", \"Harper Lee\", 1960)\n",
    "\n",
    "# Accessing the object's methods\n",
    "book1.display_info()  # Output: '1984' by George Orwell, published in 1949\n",
    "book2.display_info()  # Output: 'To Kill a Mockingbird' by Harper Lee, published in 1960"
   ]
  },
  {
   "cell_type": "markdown",
   "id": "b093408f-175b-4ae2-a8f4-f4963d8052f9",
   "metadata": {},
   "source": [
    "Breakdown:\n",
    "Class (Book): The class defines a blueprint for creating book objects.\n",
    "__init__() Method: When a Book object is created, the __init__() method is called, taking the title, author, and year as arguments and initializing the respective attributes of the object.\n",
    "Objects (book1, book2): Two instances of the Book class are created, each initialized with specific values for their attributes.\n",
    "The __init__() function is essential in OOP for setting up new objects with the necessary state and values right from the moment they are created."
   ]
  },
  {
   "cell_type": "markdown",
   "id": "48618dc5-40ff-4ee8-b530-d4c51860186a",
   "metadata": {},
   "source": [
    "# Q4. Why self is used in OOPs?"
   ]
  },
  {
   "cell_type": "markdown",
   "id": "4ffc7bb9-ee9e-43db-a2e9-056acb2fad45",
   "metadata": {},
   "source": [
    "Ans.4 In Object-Oriented Programming (OOP), self is a conventional name used as the first parameter in instance methods within a class. It refers to the instance of the class itself and is used to access the attributes and methods associated with that specific instance. Here's why self is important:\n",
    "\n",
    "Reasons for Using self:\n",
    "Instance Reference:\n",
    "\n",
    "self allows you to reference the specific instance of the class when calling its methods or accessing its attributes. This is particularly important\n",
    "when dealing with multiple instances of the same class, as each instance can have different values for its attributes.\n",
    "Distinguishing Between Instance and Local Variables:\n",
    "\n",
    "When you define attributes within a method, using self helps distinguish between instance variables (attributes) and local variables. For example, \n",
    "if you have a method parameter with the same name as an instance attribute, you can use self to refer to the instance attribute.\n",
    "Enabling Object State Management:\n",
    "\n",
    "By using self, you can manage the state of an object. You can modify the object's attributes and have those changes persist as long as the object exists.\n",
    "                                                                                                  \n",
    "Method Invocation:\n",
    "\n",
    "When you call a method on an instance, self automatically gets passed to the method, allowing the method to operate on the instance without needing to \n",
    "explicitly pass it as an argument."
   ]
  },
  {
   "cell_type": "code",
   "execution_count": 4,
   "id": "cd2353f7-9be8-4fe5-94ac-47a09c75094a",
   "metadata": {},
   "outputs": [
    {
     "name": "stdout",
     "output_type": "stream",
     "text": [
      "Area of the rectangle: 50\n"
     ]
    }
   ],
   "source": [
    "class Rectangle:\n",
    "    def __init__(self, width, height):\n",
    "        self.width = width  # Instance variable for width\n",
    "        self.height = height  # Instance variable for height\n",
    "\n",
    "    def area(self):\n",
    "        return self.width * self.height  # Using self to access instance variables\n",
    "\n",
    "# Creating an instance of the Rectangle class\n",
    "rect = Rectangle(5, 10)\n",
    "\n",
    "# Accessing the area method\n",
    "print(f\"Area of the rectangle: {rect.area()}\") "
   ]
  },
  {
   "cell_type": "code",
   "execution_count": null,
   "id": "9ccf4449-4ca7-4c23-a7e5-4ee2d6423887",
   "metadata": {},
   "outputs": [],
   "source": []
  },
  {
   "cell_type": "code",
   "execution_count": null,
   "id": "0a9cce4e-5e0e-4fb9-b403-d9d7095fa77f",
   "metadata": {},
   "outputs": [],
   "source": [
    "Inheritance is a fundamental concept in Object-Oriented Programming (OOP) that allows a new class (called a subclass or derived class) to inherit the properties and behaviors (attributes and methods) of an existing class (called a superclass or base class). This promotes code reusability and establishes a relationship between classes."
   ]
  }
 ],
 "metadata": {
  "kernelspec": {
   "display_name": "Python 3 (ipykernel)",
   "language": "python",
   "name": "python3"
  },
  "language_info": {
   "codemirror_mode": {
    "name": "ipython",
    "version": 3
   },
   "file_extension": ".py",
   "mimetype": "text/x-python",
   "name": "python",
   "nbconvert_exporter": "python",
   "pygments_lexer": "ipython3",
   "version": "3.12.4"
  }
 },
 "nbformat": 4,
 "nbformat_minor": 5
}
