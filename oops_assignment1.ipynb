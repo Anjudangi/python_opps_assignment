{
 "cells": [
  {
   "cell_type": "markdown",
   "id": "9b4e2122-dfcf-4d98-b9d7-b88bcd3bcb3a",
   "metadata": {},
   "source": [
    "Q1, Create a vehicle class with an init method having instance variables as name_of_vehicle, max_speed\n",
    "and average_of_vehicle."
   ]
  },
  {
   "cell_type": "code",
   "execution_count": 3,
   "id": "138ffe2c-4211-4118-9df1-3b384ad79170",
   "metadata": {},
   "outputs": [],
   "source": [
    "# Ans.1  class Vehicle:\n",
    " #  def __init__(self, name_of_vehicle, max_speed, average_of_vehicle):\n",
    " #        self.name_of_vehicle = name_of_vehicle\n",
    " #        self.max_speed = max_speed\n",
    " #        self.average_of_vehicle = average_of_vehicle\n",
    "\n",
    "# Example usage:\n",
    "# car = Vehicle(\"Car\", 180, 15)\n",
    "# print(f\"Vehicle Name: {car.name_of_vehicle}\")\n",
    "# print(f\"Max Speed: {car.max_speed} km/h\")\n",
    "# print(f\"Average: {car.average_of_vehicle} km/l\")"
   ]
  },
  {
   "cell_type": "markdown",
   "id": "234498a5-967e-4b8f-90b2-c18b44a96f37",
   "metadata": {},
   "source": [
    "Q2. Create a child class car from the vehicle class created in Que 1, which will inherit the vehicle class.\n",
    "Create a method named seating_capacity which takes capacity as an argument and returns the name of\n",
    "the vehicle and its seating capacity."
   ]
  },
  {
   "cell_type": "code",
   "execution_count": 5,
   "id": "60b568a9-5567-4b20-8294-e83fc0ce7b10",
   "metadata": {},
   "outputs": [],
   "source": [
    "# Ans.2 class Vehicle:\n",
    "#    def __init__(self, name_of_vehicle, max_speed, average_of_vehicle):\n",
    "#         self.name_of_vehicle = name_of_vehicle\n",
    "#         self.max_speed = max_speed\n",
    " #        self.average_of_vehicle = average_of_vehicle\n",
    "\n",
    "# class Car(Vehicle):\n",
    " #    def seating_capacity(self, capacity):\n",
    "  #       return f\"The seating capacity of {self.name_of_vehicle} is {capacity} passengers.\"\n",
    "\n",
    "# Example usage:\n",
    "# my_car = Car(\"Sedan\", 200, 18)\n",
    "# print(my_car.seating_capacity(5))\n",
    "\n",
    "# Explanation:\n",
    "# The Car class is defined as a child class of Vehicle using inheritance (class Car(Vehicle)).\n",
    "# The Car class inherits the __init__ method and instance variables (name_of_vehicle, max_speed, and average_of_vehicle) from the Vehicle class.\n",
    "# The Car class has an additional method seating_capacity that takes a capacity parameter and returns a string indicating the name of the vehicle and its seating capacity."
   ]
  },
  {
   "cell_type": "markdown",
   "id": "1da865e4-07be-4b58-ac76-5c744ab15776",
   "metadata": {},
   "source": [
    "Q3. What is multiple inheritance? Write a python code to demonstrate multiple inheritance."
   ]
  },
  {
   "cell_type": "code",
   "execution_count": 6,
   "id": "58ba00d4-e310-4a21-b69f-b9b2b235afa2",
   "metadata": {},
   "outputs": [],
   "source": [
    "# Ans.3 Multiple inheritance is a feature in object-oriented programming where a class can inherit attributes and methods from more than one parent class. This allows a child class to combine the functionality of multiple base classes.\n",
    "\n",
    "# Define the first parent class\n",
    "# class Engine:\n",
    "#     def __init__(self, horsepower):\n",
    "#         self.horsepower = horsepower\n",
    "    \n",
    "#     def start_engine(self):\n",
    "#         return f\"Engine with {self.horsepower} HP started.\"\n",
    "\n",
    "# Define the second parent class\n",
    "# class Wheels:\n",
    " #    def __init__(self, number_of_wheels):\n",
    " #        self.number_of_wheels = number_of_wheels\n",
    "    \n",
    " #    def describe_wheels(self):\n",
    "  #       return f\"This vehicle has {self.number_of_wheels} wheels.\"\n",
    "\n",
    "# Define the child class that inherits from both Engine and Wheels\n",
    "# class Car(Engine, Wheels):\n",
    "#     def __init__(self, name_of_vehicle, horsepower, number_of_wheels):\n",
    "#         Engine.__init__(self, horsepower)  # Initialize the Engine class\n",
    " #        Wheels.__init__(self, number_of_wheels)  # Initialize the Wheels class\n",
    "#         self.name_of_vehicle = name_of_vehicle\n",
    "\n",
    " #    def car_details(self):\n",
    "  #       return (f\"The {self.name_of_vehicle} has an engine with {self.horsepower} HP \"\n",
    "  #               f\"and {self.number_of_wheels} wheels.\")\n",
    "\n",
    "# Example usage\n",
    "# my_car = Car(\"Sedan\", 150, 4)\n",
    "# print(my_car.start_engine())           # Inherited from Engine class\n",
    "# print(my_car.describe_wheels())        # Inherited from Wheels class\n",
    "# print(my_car.car_details())            # Defined in the Car class"
   ]
  },
  {
   "cell_type": "markdown",
   "id": "4b2e8605-a56e-4d39-a9e8-add0c7679e18",
   "metadata": {},
   "source": [
    "Q4. What are getter and setter in python? Create a class and create a getter and a setter method in this\n",
    "class."
   ]
  },
  {
   "cell_type": "code",
   "execution_count": 7,
   "id": "c6f29b1d-3ed2-4b84-9a03-dd0cdcce18bf",
   "metadata": {},
   "outputs": [],
   "source": [
    "# Ans.4 class Student:\n",
    "#     def __init__(self, name, grade):\n",
    " #        self._name = name        # Private attribute\n",
    " #        self._grade = grade      # Private attribute\n",
    "    \n",
    "    # Getter method for name\n",
    " #    @property\n",
    " #    def name(self):\n",
    " #        return self._name\n",
    "\n",
    " #    # Setter method for name\n",
    " #    @name.setter\n",
    " #    def name(self, value):\n",
    " #        if isinstance(value, str):\n",
    " #            self._name = value\n",
    " #        else:\n",
    "  #           raise ValueError(\"Name must be a string.\")\n",
    "    \n",
    "    # Getter method for grade\n",
    "  #   @property\n",
    "  #   def grade(self):\n",
    "  #       return self._grade\n",
    "\n",
    "    # Setter method for grade\n",
    "  #   @grade.setter\n",
    "  #   def grade(self, value):\n",
    "  #       if 0 <= value <= 100:\n",
    "   #          self._grade = value\n",
    "   #      else:\n",
    "   #          raise ValueError(\"Grade must be between 0 and 100.\")\n",
    "\n",
    "# Example usage\n",
    "# student = Student(\"John\", 85)\n",
    "\n",
    "# Accessing name using getter\n",
    "# print(student.name)  # Output: John\n",
    "\n",
    "# Modifying name using setter\n",
    "# student.name = \"Jane\"\n",
    "# print(student.name)  # Output: Jane\n",
    "\n",
    "# Accessing grade using getter\n",
    "# print(student.grade)  # Output: 85\n",
    "\n",
    "# Modifying grade using setter\n",
    "# student.grade = 92\n",
    "# print(student.grade)  # Output: 92\n",
    "\n",
    "# Trying to set an invalid grade\n",
    "# try:\n",
    "#     student.grade = 105  # This will raise a ValueError\n",
    "# except ValueError as e:\n",
    " #    print(e)  # Output: Grade must be between 0 and 100."
   ]
  },
  {
   "cell_type": "markdown",
   "id": "66764643-3211-4746-a220-d2212bdc5093",
   "metadata": {},
   "source": [
    "Q5.What is method overriding in python? Write a python code to demonstrate method overriding."
   ]
  },
  {
   "cell_type": "code",
   "execution_count": null,
   "id": "e716fde2-2b0f-4bd0-9b62-f3c6f609e0d3",
   "metadata": {},
   "outputs": [],
   "source": [
    "# Ans.5 Method overriding in Python occurs when a subclass (child class) provides a specific implementation of a method that is already \n",
    "# defined in its superclass (parent class). When the method is called on an instance of the subclass, the overridden method in the subclass\n",
    "# is executed instead of the one in the parent class. This allows a subclass to modify or extend the behavior of a method inherited from the\n",
    "# parent class."
   ]
  }
 ],
 "metadata": {
  "kernelspec": {
   "display_name": "Python 3 (ipykernel)",
   "language": "python",
   "name": "python3"
  },
  "language_info": {
   "codemirror_mode": {
    "name": "ipython",
    "version": 3
   },
   "file_extension": ".py",
   "mimetype": "text/x-python",
   "name": "python",
   "nbconvert_exporter": "python",
   "pygments_lexer": "ipython3",
   "version": "3.10.8"
  }
 },
 "nbformat": 4,
 "nbformat_minor": 5
}
