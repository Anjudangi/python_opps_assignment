{
 "cells": [
  {
   "cell_type": "markdown",
   "id": "88101c66-6a9f-4567-a6e4-3a1b194d1ebe",
   "metadata": {},
   "source": [
    "# Q1. What is Abstraction in OOps? Explain with an example."
   ]
  },
  {
   "cell_type": "markdown",
   "id": "7da484c8-30ca-44c3-88cb-689ac5df8e41",
   "metadata": {},
   "source": [
    "Abstraction in Object-Oriented Programming (OOP) is the concept of hiding the complex implementation details of a system and exposing only the necessary \n",
    "and relevant parts to the user. This allows users to interact with an object at a high level without needing to understand the intricate workings behind \n",
    "    the scenes. Abstraction helps in reducing complexity and increasing efficiency.\n",
    "\n",
    "Key Points of Abstraction:\n",
    "Simplification: It simplifies the interaction with complex systems by providing a clear interface.\n",
    "Data Hiding: Abstraction often involves hiding sensitive data or implementation details that should not be exposed to the user.\n",
    "Interfaces and Abstract Classes: In Python, abstraction can be achieved using abstract classes and interfaces, which define methods that must be \n",
    "implemented by subclasses."
   ]
  },
  {
   "cell_type": "code",
   "execution_count": 1,
   "id": "6351e399-5b1c-43d9-9c83-3e2484f39765",
   "metadata": {},
   "outputs": [
    {
     "name": "stdout",
     "output_type": "stream",
     "text": [
      "Car engine started.\n",
      "Car engine stopped.\n",
      "Motorcycle engine started.\n",
      "Motorcycle engine stopped.\n"
     ]
    }
   ],
   "source": [
    "from abc import ABC, abstractmethod\n",
    "\n",
    "# Abstract class\n",
    "class Vehicle(ABC):\n",
    "    @abstractmethod\n",
    "    def start_engine(self):\n",
    "        pass\n",
    "\n",
    "    @abstractmethod\n",
    "    def stop_engine(self):\n",
    "        pass\n",
    "\n",
    "# Concrete class inheriting from Vehicle\n",
    "class Car(Vehicle):\n",
    "    def start_engine(self):\n",
    "        print(\"Car engine started.\")\n",
    "\n",
    "    def stop_engine(self):\n",
    "        print(\"Car engine stopped.\")\n",
    "\n",
    "# Concrete class inheriting from Vehicle\n",
    "class Motorcycle(Vehicle):\n",
    "    def start_engine(self):\n",
    "        print(\"Motorcycle engine started.\")\n",
    "\n",
    "    def stop_engine(self):\n",
    "        print(\"Motorcycle engine stopped.\")\n",
    "\n",
    "# Using the abstract class\n",
    "def vehicle_operations(vehicle: Vehicle):\n",
    "    vehicle.start_engine()\n",
    "    vehicle.stop_engine()\n",
    "\n",
    "# Creating instances of Car and Motorcycle\n",
    "car = Car()\n",
    "motorcycle = Motorcycle()\n",
    "\n",
    "# Performing operations\n",
    "vehicle_operations(car)        # Output: Car engine started. Car engine stopped.\n",
    "vehicle_operations(motorcycle)"
   ]
  },
  {
   "cell_type": "markdown",
   "id": "165a9c48-53e8-4414-a5fe-3d3fb7cc1e34",
   "metadata": {},
   "source": [
    "Abstract Class (Vehicle): This class serves as a template for all vehicles. It defines two abstract methods: start_engine() and stop_engine(), \n",
    "which do not have implementations in the abstract class.\n",
    "Concrete Classes (Car and Motorcycle): These classes inherit from Vehicle and provide concrete implementations for the abstract methods. Each class has \n",
    "its own way of starting and stopping the engine.\n",
    "Function (vehicle_operations): This function accepts an object of type Vehicle and calls the abstract methods, demonstrating abstraction. Users can work\n",
    "with any Vehicle subclass without needing to understand how each specific vehicle starts or stops its engine."
   ]
  },
  {
   "cell_type": "markdown",
   "id": "8fab1d92-c8fa-4301-91aa-c50425b7f925",
   "metadata": {},
   "source": [
    "# Q2. Differentiate between Abstraction and Encapsulation. Explain with an example."
   ]
  },
  {
   "cell_type": "markdown",
   "id": "702a0ccd-5d64-4d9d-8b5d-635426926c2b",
   "metadata": {},
   "source": [
    " Ans.2 Abstraction and encapsulation are two fundamental concepts in Object-Oriented Programming (OOP) that are often used together but serve different\n",
    "purposes. Here’s a breakdown of their differences, along with examples for better understanding.\n",
    "\n",
    "Abstraction:\n",
    "Definition: Abstraction is the concept of hiding complex implementation details and exposing only the necessary features of an object. It focuses on\n",
    "what an object does rather than how it does it.\n",
    "Purpose: To simplify interaction with complex systems and provide a clear interface.\n",
    "Implementation: Typically achieved using abstract classes and interfaces.\n",
    "Encapsulation:\n",
    "Definition: Encapsulation is the concept of bundling data (attributes) and methods (functions) that operate on the data into a single unit (class) and\n",
    "restricting access to some of the object's components. It focuses on protecting the internal state of an object and controlling access to it.\n",
    "Purpose: To protect an object's state and ensure that its attributes are not modified directly from outside the class.\n",
    "Implementation: Typically achieved using access modifiers (public, private, protected) to restrict access."
   ]
  },
  {
   "cell_type": "code",
   "execution_count": 2,
   "id": "8e472314-49ee-478f-9411-3eaa0e1693b5",
   "metadata": {},
   "outputs": [
    {
     "name": "stdout",
     "output_type": "stream",
     "text": [
      "Area of the circle: 78.5\n",
      "Perimeter of the circle: 31.400000000000002\n",
      "Radius of the circle: 5\n"
     ]
    }
   ],
   "source": [
    "from abc import ABC, abstractmethod\n",
    "\n",
    "# Abstraction - Abstract class\n",
    "class Shape(ABC):\n",
    "    @abstractmethod\n",
    "    def area(self):\n",
    "        pass\n",
    "\n",
    "    @abstractmethod\n",
    "    def perimeter(self):\n",
    "        pass\n",
    "\n",
    "# Encapsulation - Circle class with private attributes\n",
    "class Circle(Shape):\n",
    "    def __init__(self, radius):\n",
    "        self.__radius = radius  # Private attribute\n",
    "\n",
    "    # Implementation of abstract methods\n",
    "    def area(self):\n",
    "        return 3.14 * self.__radius ** 2\n",
    "\n",
    "    def perimeter(self):\n",
    "        return 2 * 3.14 * self.__radius\n",
    "\n",
    "    # Public method to get the radius (provides controlled access)\n",
    "    def get_radius(self):\n",
    "        return self.__radius\n",
    "\n",
    "# Usage\n",
    "circle = Circle(5)\n",
    "\n",
    "# Abstraction in action\n",
    "print(f\"Area of the circle: {circle.area()}\")           # Output: Area of the circle: 78.5\n",
    "print(f\"Perimeter of the circle: {circle.perimeter()}\") # Output: Perimeter of the circle: 31.400000000000002\n",
    "\n",
    "# Encapsulation in action\n",
    "print(f\"Radius of the circle: {circle.get_radius()}\")   # Output: Radius of the circle: 5\n",
    "\n",
    "# Trying to access the private attribute directly will raise an error\n",
    "# print(circle.__radius)  # Uncommenting this line will raise an AttributeError\n"
   ]
  },
  {
   "cell_type": "markdown",
   "id": "66bdb98e-8d82-4e98-9169-9886fff576a4",
   "metadata": {},
   "source": [
    "# Q3. What is abc module in python? Why is it used?"
   ]
  },
  {
   "cell_type": "markdown",
   "id": "4bf929c0-7043-4d00-9fe3-185ce2313920",
   "metadata": {},
   "source": [
    "Ans.3 The abc module in Python stands for Abstract Base Classes. It is part of the standard library and provides a way to define abstract base classes,\n",
    "which serve as templates for other classes. The primary purpose of the abc module is to facilitate the implementation of abstraction in object-oriented\n",
    "programming by allowing you to define methods that must be created within any child classes built from the abstract class.\n",
    "\n",
    "Key Features of the abc Module:\n",
    "Abstract Classes: You can define classes that cannot be instantiated directly. Instead, they are meant to be subclassed, and the subclasses must \n",
    "implement the abstract methods.\n",
    "\n",
    "Abstract Methods: These are methods that are declared in an abstract class but contain no implementation. Subclasses are required to implement these\n",
    "methods.\n",
    "\n",
    "Enforcement of Method Implementation: By defining abstract methods in a base class, you can ensure that any derived class must implement these methods,\n",
    "promoting a consistent interface across multiple subclasses.\n",
    "\n",
    "Why Use the abc Module?\n",
    "Design Clarity: It clearly defines a contract that all subclasses must adhere to, making the design of your code cleaner and more organized.\n",
    "Interface Enforcement: It ensures that subclasses implement specific methods, reducing the risk of runtime errors caused by missing methods.\n",
    "Polymorphism: It allows for polymorphic behavior, where different subclasses can be treated as instances of the abstract class while still having their\n",
    "own unique implementations. "
   ]
  },
  {
   "cell_type": "code",
   "execution_count": 3,
   "id": "fb142b62-d19a-4d60-a756-6f6fc00ffbae",
   "metadata": {},
   "outputs": [
    {
     "name": "stdout",
     "output_type": "stream",
     "text": [
      "Dog sound: Bark\n",
      "Dog movement: Runs\n",
      "Fish sound: Glub\n",
      "Fish movement: Swims\n"
     ]
    }
   ],
   "source": [
    "from abc import ABC, abstractmethod\n",
    "\n",
    "# Defining an abstract class\n",
    "class Animal(ABC):\n",
    "    \n",
    "    @abstractmethod\n",
    "    def sound(self):\n",
    "        pass\n",
    "\n",
    "    @abstractmethod\n",
    "    def move(self):\n",
    "        pass\n",
    "\n",
    "# Concrete class inheriting from Animal\n",
    "class Dog(Animal):\n",
    "    \n",
    "    def sound(self):\n",
    "        return \"Bark\"\n",
    "    \n",
    "    def move(self):\n",
    "        return \"Runs\"\n",
    "\n",
    "# Concrete class inheriting from Animal\n",
    "class Fish(Animal):\n",
    "    \n",
    "    def sound(self):\n",
    "        return \"Glub\"\n",
    "    \n",
    "    def move(self):\n",
    "        return \"Swims\"\n",
    "\n",
    "# Creating instances of the subclasses\n",
    "dog = Dog()\n",
    "fish = Fish()\n",
    "\n",
    "# Using the methods\n",
    "print(f\"Dog sound: {dog.sound()}\")   # Output: Dog sound: Bark\n",
    "print(f\"Dog movement: {dog.move()}\")  # Output: Dog movement: Runs\n",
    "\n",
    "print(f\"Fish sound: {fish.sound()}\")  # Output: Fish sound: Glub\n",
    "print(f\"Fish movement: {fish.move()}\") # Output: Fish movement: Swims\n",
    "\n",
    "# Trying to create an instance of the abstract class will raise an error\n",
    "# animal = Animal()"
   ]
  },
  {
   "cell_type": "markdown",
   "id": "d4df9dfa-d119-4c5c-a7a2-84e7c6a69252",
   "metadata": {},
   "source": [
    "# Q4. How can we achieve data abstraction?"
   ]
  },
  {
   "cell_type": "markdown",
   "id": "ff4544f1-47c4-47c9-88d3-776ea2efa039",
   "metadata": {},
   "source": [
    "Ans.4 Data abstraction in object-oriented programming (OOP) refers to the practice of exposing only the essential features of an object while hiding \n",
    "the complex implementation details. This allows users to interact with objects without needing to understand their internal workings. Here are several \n",
    "ways to achieve data abstraction in Python:\n",
    "\n",
    "1. Using Abstract Base Classes (ABCs):\n",
    "You can define abstract classes using the abc module, which specifies abstract methods that must be implemented by derived classes. This ensures that \n",
    "any class inheriting from the abstract class adheres to a specific interface.\n"
   ]
  },
  {
   "cell_type": "code",
   "execution_count": 4,
   "id": "ca44b801-926a-4c1a-8fcf-69a237d53252",
   "metadata": {},
   "outputs": [
    {
     "name": "stdout",
     "output_type": "stream",
     "text": [
      "Area: 78.5\n",
      "Perimeter: 31.400000000000002\n"
     ]
    }
   ],
   "source": [
    "from abc import ABC, abstractmethod\n",
    "\n",
    "class Shape(ABC):\n",
    "    @abstractmethod\n",
    "    def area(self):\n",
    "        pass\n",
    "\n",
    "    @abstractmethod\n",
    "    def perimeter(self):\n",
    "        pass\n",
    "\n",
    "class Circle(Shape):\n",
    "    def __init__(self, radius):\n",
    "        self.radius = radius\n",
    "\n",
    "    def area(self):\n",
    "        return 3.14 * self.radius ** 2\n",
    "\n",
    "    def perimeter(self):\n",
    "        return 2 * 3.14 * self.radius\n",
    "\n",
    "# Usage\n",
    "circle = Circle(5)\n",
    "print(f\"Area: {circle.area()}\")          # Output: Area: 78.5\n",
    "print(f\"Perimeter: {circle.perimeter()}\") "
   ]
  },
  {
   "cell_type": "code",
   "execution_count": null,
   "id": "931fb4c9-a5d6-446c-bdde-499f9cbbe75b",
   "metadata": {},
   "outputs": [],
   "source": []
  }
 ],
 "metadata": {
  "kernelspec": {
   "display_name": "Python 3 (ipykernel)",
   "language": "python",
   "name": "python3"
  },
  "language_info": {
   "codemirror_mode": {
    "name": "ipython",
    "version": 3
   },
   "file_extension": ".py",
   "mimetype": "text/x-python",
   "name": "python",
   "nbconvert_exporter": "python",
   "pygments_lexer": "ipython3",
   "version": "3.12.4"
  }
 },
 "nbformat": 4,
 "nbformat_minor": 5
}
